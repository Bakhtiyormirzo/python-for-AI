{
 "cells": [
  {
   "cell_type": "markdown",
   "id": "82cb459b",
   "metadata": {},
   "source": [
    "**`1-savol`**"
   ]
  },
  {
   "cell_type": "code",
   "execution_count": 56,
   "id": "89c52c1e",
   "metadata": {},
   "outputs": [
    {
     "name": "stdout",
     "output_type": "stream",
     "text": [
      "-58\n"
     ]
    }
   ],
   "source": [
    "s = \"15+8+4-85\" # -58\n",
    "\n",
    "bir = True\n",
    "i = 0\n",
    "nat = 0\n",
    "son = \"\"\n",
    "while i < len(s):\n",
    "    if bir and s[0] in [\"-\", \"+\"]:\n",
    "        son += s[0]\n",
    "        i += 1\n",
    "        bir = False\n",
    "        continue\n",
    "\n",
    "    if s[i] not in [\"-\", \"+\"]:\n",
    "        son += s[i]\n",
    "    else:\n",
    "        nat += int(son)\n",
    "        son = s[i]\n",
    "        \n",
    "    if i == len(s)-1:\n",
    "        nat += int(son)\n",
    "\n",
    "    i += 1\n",
    "print(nat)"
   ]
  },
  {
   "cell_type": "markdown",
   "id": "12d61338",
   "metadata": {},
   "source": [
    "**`2-savol`**"
   ]
  },
  {
   "cell_type": "code",
   "execution_count": 64,
   "id": "633e2290",
   "metadata": {},
   "outputs": [
    {
     "name": "stdout",
     "output_type": "stream",
     "text": [
      "asdfgfdsa\n",
      "kiyik\n",
      "aziza\n"
     ]
    }
   ],
   "source": [
    "matn = \"bu yerda jami 3ta palindrom sozlar bor bu yerda matn asdfgfdsa bor va bu matnda bazi sozlar palindrom sozlardir: kiyik aziza\"\n",
    "\n",
    "def isPalindrome(a):\n",
    "    if len(a) < 1:\n",
    "        return True\n",
    "    else:\n",
    "        if a[0] == a[-1]:\n",
    "            return isPalindrome(a[1:-1])\n",
    "        else:\n",
    "            return False\n",
    "    \n",
    "s = matn.split()\n",
    "\n",
    "for i in s:\n",
    "    if isPalindrome(i):\n",
    "        print(i)"
   ]
  },
  {
   "cell_type": "markdown",
   "id": "4837adda",
   "metadata": {},
   "source": [
    "**`3-savol`**"
   ]
  },
  {
   "cell_type": "code",
   "execution_count": null,
   "id": "6a5cb63e",
   "metadata": {},
   "outputs": [],
   "source": []
  },
  {
   "cell_type": "markdown",
   "id": "5404eb35",
   "metadata": {},
   "source": [
    "**`4-savol`**"
   ]
  },
  {
   "cell_type": "code",
   "execution_count": 124,
   "id": "bb799f8a",
   "metadata": {},
   "outputs": [
    {
     "name": "stdout",
     "output_type": "stream",
     "text": [
      "bu yerda har hil sozlar bor cueia universitet dasturchi\n"
     ]
    }
   ],
   "source": [
    "f = open(\"4-savol.txt\", \"r+\")\n",
    "\n",
    "A = ['A', 'a']\n",
    "\n",
    "lines = f.readlines()\n",
    "s = []\n",
    "for line in lines:\n",
    "    words = line.split()\n",
    "    for word in words:\n",
    "        \n",
    "        if word[0] in A and word[-1] in A:\n",
    "            continue\n",
    "        elif word[-1] == \"\\n\":\n",
    "            if word[0] in A and word[-3] in A:\n",
    "                continue\n",
    "        else:\n",
    "            s.append(word)\n",
    "\n",
    "\n",
    "f.seek(0)\n",
    "s = \" \".join(s)\n",
    "print(s)\n",
    "for i in s:\n",
    "    f.write(i)\n",
    "\n",
    "for i in range(1000):\n",
    "    f.write(\" \")\n",
    "\n",
    "f.close()"
   ]
  },
  {
   "cell_type": "markdown",
   "id": "eeb6317e",
   "metadata": {},
   "source": [
    "**`5-savol`**"
   ]
  },
  {
   "cell_type": "code",
   "execution_count": null,
   "id": "2bee91cc",
   "metadata": {},
   "outputs": [],
   "source": []
  }
 ],
 "metadata": {
  "kernelspec": {
   "display_name": "Python 3 (ipykernel)",
   "language": "python",
   "name": "python3"
  },
  "language_info": {
   "codemirror_mode": {
    "name": "ipython",
    "version": 3
   },
   "file_extension": ".py",
   "mimetype": "text/x-python",
   "name": "python",
   "nbconvert_exporter": "python",
   "pygments_lexer": "ipython3",
   "version": "3.9.12"
  }
 },
 "nbformat": 4,
 "nbformat_minor": 5
}
