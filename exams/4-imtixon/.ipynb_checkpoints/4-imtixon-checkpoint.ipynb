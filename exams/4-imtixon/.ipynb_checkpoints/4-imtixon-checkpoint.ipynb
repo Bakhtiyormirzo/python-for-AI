{
 "cells": [
  {
   "cell_type": "markdown",
   "id": "1ae495c7",
   "metadata": {},
   "source": [
    "**`1-savol`**"
   ]
  },
  {
   "cell_type": "code",
   "execution_count": 56,
   "id": "810cb573",
   "metadata": {},
   "outputs": [
    {
     "name": "stdout",
     "output_type": "stream",
     "text": [
      "-58\n"
     ]
    }
   ],
   "source": [
    "s = \"15+8+4-85\" # -58\n",
    "\n",
    "bir = True\n",
    "i = 0\n",
    "nat = 0\n",
    "son = \"\"\n",
    "while i < len(s):\n",
    "    if bir and s[0] in [\"-\", \"+\"]:\n",
    "        son += s[0]\n",
    "        i += 1\n",
    "        bir = False\n",
    "        continue\n",
    "\n",
    "    if s[i] not in [\"-\", \"+\"]:\n",
    "        son += s[i]\n",
    "    else:\n",
    "        nat += int(son)\n",
    "        son = s[i]\n",
    "        \n",
    "    if i == len(s)-1:\n",
    "        nat += int(son)\n",
    "\n",
    "    i += 1\n",
    "print(nat)"
   ]
  },
  {
   "cell_type": "markdown",
   "id": "e3279829",
   "metadata": {},
   "source": [
    "**`2-savol`**"
   ]
  },
  {
   "cell_type": "code",
   "execution_count": 64,
   "id": "f75d9174",
   "metadata": {},
   "outputs": [
    {
     "name": "stdout",
     "output_type": "stream",
     "text": [
      "asdfgfdsa\n",
      "kiyik\n",
      "aziza\n"
     ]
    }
   ],
   "source": [
    "matn = \"bu yerda jami 3ta palindrom sozlar bor bu yerda matn asdfgfdsa bor va bu matnda bazi sozlar palindrom sozlardir: kiyik aziza\"\n",
    "\n",
    "def isPalindrome(a):\n",
    "    if len(a) < 1:\n",
    "        return True\n",
    "    else:\n",
    "        if a[0] == a[-1]:\n",
    "            return isPalindrome(a[1:-1])\n",
    "        else:\n",
    "            return False\n",
    "    \n",
    "s = matn.split()\n",
    "\n",
    "for i in s:\n",
    "    if isPalindrome(i):\n",
    "        print(i)"
   ]
  },
  {
   "cell_type": "markdown",
   "id": "6e1fe846",
   "metadata": {},
   "source": [
    "**`3-savol`**"
   ]
  },
  {
   "cell_type": "code",
   "execution_count": null,
   "id": "6285fe07",
   "metadata": {},
   "outputs": [],
   "source": []
  },
  {
   "cell_type": "markdown",
   "id": "67db5116",
   "metadata": {},
   "source": [
    "**`4-savol`**"
   ]
  },
  {
   "cell_type": "code",
   "execution_count": 119,
   "id": "7a8c557e",
   "metadata": {},
   "outputs": [
    {
     "name": "stdout",
     "output_type": "stream",
     "text": [
      "\n"
     ]
    }
   ],
   "source": [
    "f = open(\"4-savol.txt\", \"r+\")\n",
    "\n",
    "A = ['A', 'a']\n",
    "\n",
    "lines = f.readlines()\n",
    "s = []\n",
    "for line in lines:\n",
    "    words = line.split()\n",
    "    for word in words:\n",
    "        \n",
    "        if word[0] in A and word[-1] in A:\n",
    "            continue\n",
    "        elif word[-1] == \"\\n\":\n",
    "            if word[0] in A and word[-3] in A:\n",
    "                continue\n",
    "        else:\n",
    "            s.append(word)\n",
    "\n",
    "\n",
    "f.seek(0)\n",
    "s = \" \".join(s)\n",
    "print(s)\n",
    "for i in s:\n",
    "    f.write(i)\n",
    "    \n",
    "f.close()"
   ]
  },
  {
   "cell_type": "code",
   "execution_count": 109,
   "id": "fa888fec",
   "metadata": {},
   "outputs": [
    {
     "ename": "SyntaxError",
     "evalue": "invalid syntax (792509735.py, line 1)",
     "output_type": "error",
     "traceback": [
      "\u001b[0;36m  Input \u001b[0;32mIn [109]\u001b[0;36m\u001b[0m\n\u001b[0;31m    bu abilanboshklanadia yerda aabciwbeiA har hil sozlar bor\u001b[0m\n\u001b[0m       ^\u001b[0m\n\u001b[0;31mSyntaxError\u001b[0m\u001b[0;31m:\u001b[0m invalid syntax\n"
     ]
    }
   ],
   "source": [
    "bu abilanboshklanadia yerda aabciwbeiA har hil sozlar bor\n",
    "Adjwa cueia\n",
    "adcia  AjdcjA universitet\n",
    "dasturchi asaibA"
   ]
  },
  {
   "cell_type": "code",
   "execution_count": 112,
   "id": "791ae028",
   "metadata": {},
   "outputs": [
    {
     "name": "stdout",
     "output_type": "stream",
     "text": [
      "112\n"
     ]
    }
   ],
   "source": [
    "f = open(\"4-savol.txt\", \"r+\")\n",
    "\n",
    "s = f.read()\n",
    "print(len(s))\n",
    "f.close()"
   ]
  },
  {
   "cell_type": "code",
   "execution_count": null,
   "id": "fac73585",
   "metadata": {},
   "outputs": [],
   "source": []
  }
 ],
 "metadata": {
  "kernelspec": {
   "display_name": "Python 3 (ipykernel)",
   "language": "python",
   "name": "python3"
  },
  "language_info": {
   "codemirror_mode": {
    "name": "ipython",
    "version": 3
   },
   "file_extension": ".py",
   "mimetype": "text/x-python",
   "name": "python",
   "nbconvert_exporter": "python",
   "pygments_lexer": "ipython3",
   "version": "3.9.12"
  }
 },
 "nbformat": 4,
 "nbformat_minor": 5
}
